{
 "cells": [
  {
   "cell_type": "markdown",
   "metadata": {},
   "source": [
    "## Importing Libraries"
   ]
  },
  {
   "cell_type": "code",
   "execution_count": 1,
   "metadata": {},
   "outputs": [],
   "source": [
    "import numpy as np\n",
    "\n",
    "from pandas import read_csv"
   ]
  },
  {
   "cell_type": "code",
   "execution_count": null,
   "metadata": {},
   "outputs": [],
   "source": [
    "from matplotlib import pyplot\n",
    "from keras.models import Sequential\n",
    "from keras.layers import Dense\n",
    "from keras.layers import Flatten\n",
    "from keras.layers import Dropout\n",
    "from keras.layers.convolutional import Conv1D\n",
    "from keras.layers.convolutional import MaxPooling1D\n",
    "from keras.utils import to_categorical\n",
    "from keras.layers.normalization import BatchNormalization"
   ]
  },
  {
   "cell_type": "markdown",
   "metadata": {},
   "source": [
    "## Loading The Data"
   ]
  },
  {
   "cell_type": "code",
   "execution_count": null,
   "metadata": {},
   "outputs": [],
   "source": [
    "class WSJ():\n",
    "\n",
    "    def __init__(self):\n",
    "        self.dev_set = None\n",
    "        self.train_set = None\n",
    "        self.test_set = None\n",
    "    \n",
    "    @property\n",
    "    def dev(self):\n",
    "        if self.dev_set is None:\n",
    "            self.dev_set = load_raw('../input/masterclass-hw-1/', 'dev')\n",
    "        return self.dev_set\n",
    "\n",
    "    @property\n",
    "    def train(self):\n",
    "        if self.train_set is None:\n",
    "            self.train_set = load_raw('../input/masterclass-hw-1/', 'train')\n",
    "        return self.train_set\n",
    "  \n",
    "    @property\n",
    "    def test(self):\n",
    "        if self.test_set is None:\n",
    "            self.test_set = (np.load(os.path.join('../input/masterclass-hw-1/', 'test_data.npy'), encoding='bytes'), None)\n",
    "        return self.test_set\n",
    "    \n",
    "def load_raw(path, name):\n",
    "    print(os.path.join(path, '{}_data.npy'.format(name)))\n",
    "    return (\n",
    "        np.load(os.path.join(path, '{}_data.npy'.format(name)), encoding='bytes'), \n",
    "        np.load(os.path.join(path, '{}_labels.npy'.format(name)), encoding='bytes')\n",
    "        \n",
    "        #np.load('dev_data.npy', encoding='bytes',allow_pickle=True), \n",
    "        #np.load('dev_labels.npy', encoding='bytes',allow_pickle=True)\n",
    "    )"
   ]
  },
  {
   "cell_type": "code",
   "execution_count": null,
   "metadata": {},
   "outputs": [],
   "source": [
    "train_data = np.load(\"C:/bio/8th Sem/IDC 410 ML/Frame level Speech Recog/DATA/FINAL_train_data.npy\", allow_pickle=True,encoding=\"latin1\")\n",
    "train_labels = np.load(\"C:/bio/8th Sem/IDC 410 ML/Frame level Speech Recog/DATA/train_labels.npy\", allow_pickle=True,encoding=\"latin1\")\n",
    "\n",
    "\n",
    "dev_data = np.load(\"C:/bio/8th Sem/IDC 410 ML/Frame level Speech Recog/DATA/FINAL_dev_data.npy\", allow_pickle=True,encoding=\"latin1\")\n",
    "dev_labels = np.load(\"C:/bio/8th Sem/IDC 410 ML/Frame level Speech Recog/DATA/dev_labels.npy\", allow_pickle=True,encoding=\"latin1\")\n",
    "\n",
    "print(\"The shape of training data is\", train_data.shape, \"\\n The shape of the train labels is\", train_labels.shape, \"\\n The shape of the dev data is\", dev_data.shape, \"\\n The shape of the Dev Labels is\", dev_labels.shape)"
   ]
  },
  {
   "cell_type": "code",
   "execution_count": 5,
   "metadata": {},
   "outputs": [
    {
     "data": {
      "text/plain": [
       "((9748009, 120), (9748009,), (1080827, 120), (1103,))"
      ]
     },
     "execution_count": 5,
     "metadata": {},
     "output_type": "execute_result"
    }
   ],
   "source": [
    "train_data.shape, train_labels.shape, dev_data.shape, dev_labels.shape"
   ]
  },
  {
   "cell_type": "markdown",
   "metadata": {},
   "source": [
    "## The distribution of the Data"
   ]
  },
  {
   "cell_type": "markdown",
   "metadata": {},
   "source": [
    "### Training a model of 96 lakhs entries, consumed a lot of time, So, I trained a model on a subset of 12 lakh datasets. As their distribution is almost the same our training should not be baised"
   ]
  },
  {
   "cell_type": "markdown",
   "metadata": {},
   "source": [
    "## Distribution of Original Data"
   ]
  },
  {
   "cell_type": "code",
   "execution_count": 12,
   "metadata": {},
   "outputs": [
    {
     "data": {
      "image/png": "[encoded data removed]",
      "text/plain": [
       "<Figure size 720x504 with 1 Axes>"
      ]
     },
     "metadata": {
      "needs_background": "light"
     },
     "output_type": "display_data"
    }
   ],
   "source": [
    "from matplotlib import pyplot as plt\n",
    "  \n",
    "a = np.array(train_labels)\n",
    "\n",
    "# Creating histogram\n",
    "fig, ax = plt.subplots(figsize =(10, 7))\n",
    "ax.hist(a, bins = [0, 5, 10, 15,20,25,30,35,40,45,50,55,60,65,70,75,80,85,90,95,100,105,110,115,120,125,130,135,140])\n",
    "  \n",
    "# Show plot\n",
    "plt.show()"
   ]
  },
  {
   "cell_type": "markdown",
   "metadata": {},
   "source": [
    "## Distribution of Subset Data"
   ]
  },
  {
   "cell_type": "code",
   "execution_count": 80,
   "metadata": {},
   "outputs": [
    {
     "data": {
      "image/png": "[encoded data removed]",
      "text/plain": [
       "<Figure size 720x504 with 1 Axes>"
      ]
     },
     "metadata": {
      "needs_background": "light"
     },
     "output_type": "display_data"
    }
   ],
   "source": [
    "from matplotlib import pyplot as plt\n",
    "  \n",
    "k = np.array(train_labels[1:1200000])\n",
    "\n",
    "# Creating histogram\n",
    "fig, ax = plt.subplots(figsize =(10, 7))\n",
    "ax.hist(k, bins = [0, 5, 10, 15,20,25,30,35,40,45,50,55,60,65,70,75,80,85,90,95,100,105,110,115,120,125,130,135,140])\n",
    "  \n",
    "# Show plot\n",
    "plt.show()"
   ]
  },
  {
   "cell_type": "markdown",
   "metadata": {},
   "source": [
    "## Shaping the Dataset for 1D CNN"
   ]
  },
  {
   "cell_type": "markdown",
   "metadata": {},
   "source": [
    "### Since we are going to run the dataset on 1D CNN, we modified the data set initially using 3 contexts and then reshaping the dataset to fit in to the CNN and apply one hot encoding to the label data"
   ]
  },
  {
   "cell_type": "code",
   "execution_count": 6,
   "metadata": {},
   "outputs": [
    {
     "data": {
      "text/plain": [
       "((9748009, 120, 1), (9748009, 138))"
      ]
     },
     "execution_count": 6,
     "metadata": {},
     "output_type": "execute_result"
    }
   ],
   "source": [
    "CNN_trainX = train_data.reshape(9748009, 120, 1)\n",
    "CNN_trainY = to_categorical(train_labels, num_classes=138)\n",
    "\n",
    "#CNN_testX = dev_data.reshape(1080827, 120, 1)\n",
    "#CNN_testY = to_categorical(dev_labels, num_classes=138)\n",
    "\n",
    "CNN_trainX.shape, CNN_trainY.shape"
   ]
  },
  {
   "cell_type": "markdown",
   "metadata": {},
   "source": [
    "## Defining CNN"
   ]
  },
  {
   "cell_type": "code",
   "execution_count": 9,
   "metadata": {},
   "outputs": [],
   "source": [
    "import tensorflow as tf"
   ]
  },
  {
   "cell_type": "code",
   "execution_count": 95,
   "metadata": {},
   "outputs": [
    {
     "name": "stdout",
     "output_type": "stream",
     "text": [
      "Model: \"sequential_7\"\n",
      "_________________________________________________________________\n",
      "Layer (type)                 Output Shape              Param #   \n",
      "=================================================================\n",
      "conv1d_23 (Conv1D)           (None, 119, 16)           48        \n",
      "_________________________________________________________________\n",
      "batch_normalization_23 (Batc (None, 119, 16)           64        \n",
      "_________________________________________________________________\n",
      "conv1d_24 (Conv1D)           (None, 117, 64)           3136      \n",
      "_________________________________________________________________\n",
      "batch_normalization_24 (Batc (None, 117, 64)           256       \n",
      "_________________________________________________________________\n",
      "max_pooling1d_22 (MaxPooling (None, 58, 64)            0         \n",
      "_________________________________________________________________\n",
      "conv1d_25 (Conv1D)           (None, 57, 32)            4128      \n",
      "_________________________________________________________________\n",
      "batch_normalization_25 (Batc (None, 57, 32)            128       \n",
      "_________________________________________________________________\n",
      "max_pooling1d_23 (MaxPooling (None, 28, 32)            0         \n",
      "_________________________________________________________________\n",
      "conv1d_26 (Conv1D)           (None, 26, 64)            6208      \n",
      "_________________________________________________________________\n",
      "batch_normalization_26 (Batc (None, 26, 64)            256       \n",
      "_________________________________________________________________\n",
      "max_pooling1d_24 (MaxPooling (None, 13, 64)            0         \n",
      "_________________________________________________________________\n",
      "conv1d_27 (Conv1D)           (None, 11, 128)           24704     \n",
      "_________________________________________________________________\n",
      "batch_normalization_27 (Batc (None, 11, 128)           512       \n",
      "_________________________________________________________________\n",
      "max_pooling1d_25 (MaxPooling (None, 5, 128)            0         \n",
      "_________________________________________________________________\n",
      "flatten_6 (Flatten)          (None, 640)               0         \n",
      "_________________________________________________________________\n",
      "dense_16 (Dense)             (None, 512)               328192    \n",
      "_________________________________________________________________\n",
      "dropout_9 (Dropout)          (None, 512)               0         \n",
      "_________________________________________________________________\n",
      "dense_17 (Dense)             (None, 512)               262656    \n",
      "_________________________________________________________________\n",
      "dropout_10 (Dropout)         (None, 512)               0         \n",
      "_________________________________________________________________\n",
      "dense_18 (Dense)             (None, 138)               70794     \n",
      "=================================================================\n",
      "Total params: 701,082\n",
      "Trainable params: 700,474\n",
      "Non-trainable params: 608\n",
      "_________________________________________________________________\n",
      "None\n"
     ]
    }
   ],
   "source": [
    "n_timesteps, n_features, n_outputs = CNN_trainX.shape[1], CNN_trainX.shape[2], CNN_trainY.shape[1]\n",
    "\n",
    "model = Sequential()\n",
    "\n",
    "model.add(Conv1D(filters= 16, kernel_size= 2, activation='relu', input_shape=(n_timesteps,n_features)))\n",
    "model.add(BatchNormalization())\n",
    "\n",
    "model.add(Conv1D(filters= 64, kernel_size= 3, activation='relu', input_shape=(n_timesteps,n_features)))\n",
    "model.add(BatchNormalization())\n",
    "\n",
    "\n",
    "model.add(MaxPooling1D(pool_size=2))\n",
    "\n",
    "model.add(Conv1D(filters= 32, kernel_size= 2, activation='relu',  kernel_regularizer= tf.keras.regularizers.l2(l=0.01)))\n",
    "model.add(BatchNormalization())\n",
    "model.add(MaxPooling1D(pool_size=2))\n",
    "\n",
    "model.add(Conv1D(filters= 64, kernel_size= 3, activation='relu',  kernel_regularizer= tf.keras.regularizers.l2(l=0.01)))\n",
    "model.add(BatchNormalization())\n",
    "model.add(MaxPooling1D(pool_size=2))\n",
    "\n",
    "model.add(Conv1D(filters= 128, kernel_size= 3, activation='relu'))\n",
    "model.add(BatchNormalization())\n",
    "\n",
    "model.add(MaxPooling1D(pool_size=2))\n",
    "\n",
    "model.add(Flatten())\n",
    "\n",
    "model.add(Dense(512, activation='relu'))\n",
    "model.add(Dropout(0.3))\n",
    "model.add(Dense(512, activation='relu'))\n",
    "model.add(Dropout(0.3))\n",
    "model.add(Dense(n_outputs, activation='softmax'))\n",
    "model.compile(loss='categorical_crossentropy', optimizer='adam', metrics=['accuracy'])\n",
    "\t# fit network\n",
    "print(model.summary())"
   ]
  },
  {
   "cell_type": "markdown",
   "metadata": {},
   "source": [
    "## Training The Model"
   ]
  },
  {
   "cell_type": "code",
   "execution_count": 75,
   "metadata": {},
   "outputs": [
    {
     "name": "stdout",
     "output_type": "stream",
     "text": [
      "Epoch 1/15\n",
      "119999/119999 [==============================] - 90s 749us/step - loss: 2.4854 - accuracy: 0.3597\n",
      "Epoch 2/15\n",
      "119999/119999 [==============================] - 90s 753us/step - loss: 2.4244 - accuracy: 0.3722\n",
      "Epoch 3/15\n",
      "119999/119999 [==============================] - 91s 761us/step - loss: 2.3720 - accuracy: 0.3813\n",
      "Epoch 4/15\n",
      "119999/119999 [==============================] - 92s 768us/step - loss: 2.3320 - accuracy: 0.3898\n",
      "Epoch 5/15\n",
      "119999/119999 [==============================] - 90s 748us/step - loss: 2.2923 - accuracy: 0.3978\n",
      "Epoch 6/15\n",
      "119999/119999 [==============================] - 89s 742us/step - loss: 2.2583 - accuracy: 0.4046\n",
      "Epoch 7/15\n",
      "119999/119999 [==============================] - 90s 749us/step - loss: 2.2227 - accuracy: 0.4113\n",
      "Epoch 8/15\n",
      "119999/119999 [==============================] - 91s 755us/step - loss: 2.1991 - accuracy: 0.4162\n",
      "Epoch 9/15\n",
      "119999/119999 [==============================] - 90s 752us/step - loss: 2.1661 - accuracy: 0.4225\n",
      "Epoch 10/15\n",
      "119999/119999 [==============================] - 90s 753us/step - loss: 2.1374 - accuracy: 0.4282\n",
      "Epoch 11/15\n",
      "119999/119999 [==============================] - 91s 757us/step - loss: 2.1157 - accuracy: 0.4317\n",
      "Epoch 12/15\n",
      "119999/119999 [==============================] - 92s 768us/step - loss: 2.0871 - accuracy: 0.4373\n",
      "Epoch 13/15\n",
      "119999/119999 [==============================] - 92s 763us/step - loss: 2.0670 - accuracy: 0.4431\n",
      "Epoch 14/15\n",
      "119999/119999 [==============================] - 91s 762us/step - loss: 2.0463 - accuracy: 0.4477\n",
      "Epoch 15/15\n",
      "119999/119999 [==============================] - 91s 758us/step - loss: 2.0238 - accuracy: 0.4507\n"
     ]
    }
   ],
   "source": [
    "fit = model.fit(CNN_trainX[1:120000], CNN_trainY[1:120000], batch_size = 32,  verbose=True , epochs= 15)"
   ]
  },
  {
   "cell_type": "markdown",
   "metadata": {},
   "source": [
    "## Accuracy"
   ]
  },
  {
   "cell_type": "code",
   "execution_count": null,
   "metadata": {},
   "outputs": [],
   "source": [
    "_, accuracy = model.evaluate(CNN_trainX[1200000:1500000], CNN_trainY[1200000:1500000], batch_size= 32, verbose= True)\n",
    "print(accuracy)"
   ]
  },
  {
   "cell_type": "markdown",
   "metadata": {},
   "source": [
    "## Prediction\n",
    "\n",
    "### We load the test dataset on the kaggle and predict on the data using our trained 1D CNN"
   ]
  },
  {
   "cell_type": "code",
   "execution_count": 23,
   "metadata": {},
   "outputs": [
    {
     "data": {
      "text/plain": [
       "(4620355, 120)"
      ]
     },
     "execution_count": 23,
     "metadata": {},
     "output_type": "execute_result"
    }
   ],
   "source": [
    "test = np.load(\"C:/bio/8th Sem/IDC 410 ML/Frame level Speech Recog/DATA/test_data_v120.npy\", allow_pickle=True,encoding=\"latin1\")\n",
    "\n",
    "test.shape"
   ]
  },
  {
   "cell_type": "code",
   "execution_count": 77,
   "metadata": {},
   "outputs": [
    {
     "data": {
      "text/plain": [
       "(4620355,)"
      ]
     },
     "execution_count": 77,
     "metadata": {},
     "output_type": "execute_result"
    }
   ],
   "source": [
    "CNN_test = test.reshape(4620355, 120, 1)\n",
    "y_pred = model.predict_classes(CNN_test)\n",
    "y_pred.shape"
   ]
  },
  {
   "cell_type": "markdown",
   "metadata": {},
   "source": [
    "## Writing on the csv file"
   ]
  },
  {
   "cell_type": "code",
   "execution_count": 78,
   "metadata": {},
   "outputs": [],
   "source": [
    "with open('C:/bio/8th Sem/IDC 410 ML/Frame level Speech Recog/DATA/Final_Submission6.csv', 'w') as w:\n",
    "    w.write('id,label\\n')\n",
    "    for i in range(len(y_pred)):\n",
    "            w.write(str(i)+','+str(y_pred[i])+'\\n')"
   ]
  },
  {
   "cell_type": "code",
   "execution_count": 79,
   "metadata": {},
   "outputs": [
    {
     "data": {
      "text/plain": [
       "(4620355, 2)"
      ]
     },
     "execution_count": 79,
     "metadata": {},
     "output_type": "execute_result"
    }
   ],
   "source": [
    "import pandas as pd\n",
    "\n",
    "mycsv = pd.read_csv('C:/bio/8th Sem/IDC 410 ML/Frame level Speech Recog/DATA/Final_Submission6.csv')\n",
    "df = pd.DataFrame(mycsv)\n",
    "\n",
    "df.shape"
   ]
  }
 ],
 "metadata": {
  "kernelspec": {
   "display_name": "Python 3",
   "language": "python",
   "name": "python3"
  },
  "language_info": {
   "codemirror_mode": {
    "name": "ipython",
    "version": 3
   },
   "file_extension": ".py",
   "mimetype": "text/x-python",
   "name": "python",
   "nbconvert_exporter": "python",
   "pygments_lexer": "ipython3",
   "version": "3.7.4"
  }
 },
 "nbformat": 4,
 "nbformat_minor": 2
}
